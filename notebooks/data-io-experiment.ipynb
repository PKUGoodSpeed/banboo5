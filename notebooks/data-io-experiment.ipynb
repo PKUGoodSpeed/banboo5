{
 "cells": [
  {
   "cell_type": "code",
   "execution_count": 6,
   "id": "408f10d7",
   "metadata": {},
   "outputs": [],
   "source": [
    "import os\n",
    "from datetime import datetime\n",
    "import pandas as pd"
   ]
  },
  {
   "cell_type": "code",
   "execution_count": 37,
   "id": "894dd02b",
   "metadata": {},
   "outputs": [
    {
     "name": "stdout",
     "output_type": "stream",
     "text": [
      "README.md      Untitled.ipynb features.py    io.py          target.py\r\n"
     ]
    }
   ],
   "source": [
    "!ls ."
   ]
  },
  {
   "cell_type": "code",
   "execution_count": 7,
   "id": "2f0e0d2a",
   "metadata": {},
   "outputs": [],
   "source": [
    "data_dir = '../../data/Stocks'"
   ]
  },
  {
   "cell_type": "code",
   "execution_count": 10,
   "id": "e3c7bc5b",
   "metadata": {},
   "outputs": [
    {
     "name": "stdout",
     "output_type": "stream",
     "text": [
      "['iba', 'wpz', 'opnt', 'indf', 'flic', 'nbhc', 'ncs', 'grvy', 'lgcyo', 'eqco']\n"
     ]
    }
   ],
   "source": [
    "symbols = [f.split('.us.txt')[0] for f in os.listdir(data_dir) if f.endswith('.us.txt')]\n",
    "print(symbols[:10])"
   ]
  },
  {
   "cell_type": "code",
   "execution_count": 11,
   "id": "ccab52fd",
   "metadata": {},
   "outputs": [],
   "source": [
    "filepath = os.path.join(data_dir, symbols[0] + '.us.txt')"
   ]
  },
  {
   "cell_type": "code",
   "execution_count": 12,
   "id": "9c9baaf5",
   "metadata": {},
   "outputs": [],
   "source": [
    "df = pd.read_csv(filepath)"
   ]
  },
  {
   "cell_type": "code",
   "execution_count": 13,
   "id": "c33e71e1",
   "metadata": {},
   "outputs": [
    {
     "data": {
      "text/html": [
       "<div>\n",
       "<style scoped>\n",
       "    .dataframe tbody tr th:only-of-type {\n",
       "        vertical-align: middle;\n",
       "    }\n",
       "\n",
       "    .dataframe tbody tr th {\n",
       "        vertical-align: top;\n",
       "    }\n",
       "\n",
       "    .dataframe thead th {\n",
       "        text-align: right;\n",
       "    }\n",
       "</style>\n",
       "<table border=\"1\" class=\"dataframe\">\n",
       "  <thead>\n",
       "    <tr style=\"text-align: right;\">\n",
       "      <th></th>\n",
       "      <th>Date</th>\n",
       "      <th>Open</th>\n",
       "      <th>High</th>\n",
       "      <th>Low</th>\n",
       "      <th>Close</th>\n",
       "      <th>Volume</th>\n",
       "      <th>OpenInt</th>\n",
       "    </tr>\n",
       "  </thead>\n",
       "  <tbody>\n",
       "    <tr>\n",
       "      <th>0</th>\n",
       "      <td>2005-02-25</td>\n",
       "      <td>12.868</td>\n",
       "      <td>12.982</td>\n",
       "      <td>12.834</td>\n",
       "      <td>12.834</td>\n",
       "      <td>15928</td>\n",
       "      <td>0</td>\n",
       "    </tr>\n",
       "    <tr>\n",
       "      <th>1</th>\n",
       "      <td>2005-02-28</td>\n",
       "      <td>13.536</td>\n",
       "      <td>13.536</td>\n",
       "      <td>13.273</td>\n",
       "      <td>13.281</td>\n",
       "      <td>16382</td>\n",
       "      <td>0</td>\n",
       "    </tr>\n",
       "    <tr>\n",
       "      <th>2</th>\n",
       "      <td>2005-03-01</td>\n",
       "      <td>13.185</td>\n",
       "      <td>13.299</td>\n",
       "      <td>13.185</td>\n",
       "      <td>13.299</td>\n",
       "      <td>1250</td>\n",
       "      <td>0</td>\n",
       "    </tr>\n",
       "    <tr>\n",
       "      <th>3</th>\n",
       "      <td>2005-03-02</td>\n",
       "      <td>13.361</td>\n",
       "      <td>13.395</td>\n",
       "      <td>13.273</td>\n",
       "      <td>13.291</td>\n",
       "      <td>8760</td>\n",
       "      <td>0</td>\n",
       "    </tr>\n",
       "    <tr>\n",
       "      <th>4</th>\n",
       "      <td>2005-03-03</td>\n",
       "      <td>13.361</td>\n",
       "      <td>13.404</td>\n",
       "      <td>12.966</td>\n",
       "      <td>13.218</td>\n",
       "      <td>9897</td>\n",
       "      <td>0</td>\n",
       "    </tr>\n",
       "  </tbody>\n",
       "</table>\n",
       "</div>"
      ],
      "text/plain": [
       "         Date    Open    High     Low   Close  Volume  OpenInt\n",
       "0  2005-02-25  12.868  12.982  12.834  12.834   15928        0\n",
       "1  2005-02-28  13.536  13.536  13.273  13.281   16382        0\n",
       "2  2005-03-01  13.185  13.299  13.185  13.299    1250        0\n",
       "3  2005-03-02  13.361  13.395  13.273  13.291    8760        0\n",
       "4  2005-03-03  13.361  13.404  12.966  13.218    9897        0"
      ]
     },
     "execution_count": 13,
     "metadata": {},
     "output_type": "execute_result"
    }
   ],
   "source": [
    "df.head()"
   ]
  },
  {
   "cell_type": "code",
   "execution_count": 14,
   "id": "7177d048",
   "metadata": {},
   "outputs": [
    {
     "data": {
      "text/html": [
       "<div>\n",
       "<style scoped>\n",
       "    .dataframe tbody tr th:only-of-type {\n",
       "        vertical-align: middle;\n",
       "    }\n",
       "\n",
       "    .dataframe tbody tr th {\n",
       "        vertical-align: top;\n",
       "    }\n",
       "\n",
       "    .dataframe thead th {\n",
       "        text-align: right;\n",
       "    }\n",
       "</style>\n",
       "<table border=\"1\" class=\"dataframe\">\n",
       "  <thead>\n",
       "    <tr style=\"text-align: right;\">\n",
       "      <th></th>\n",
       "      <th>Date</th>\n",
       "      <th>Open</th>\n",
       "      <th>High</th>\n",
       "      <th>Low</th>\n",
       "      <th>Close</th>\n",
       "      <th>Volume</th>\n",
       "      <th>OpenInt</th>\n",
       "    </tr>\n",
       "  </thead>\n",
       "  <tbody>\n",
       "    <tr>\n",
       "      <th>3194</th>\n",
       "      <td>2017-11-06</td>\n",
       "      <td>59.00</td>\n",
       "      <td>59.38</td>\n",
       "      <td>58.195</td>\n",
       "      <td>59.15</td>\n",
       "      <td>19854</td>\n",
       "      <td>0</td>\n",
       "    </tr>\n",
       "    <tr>\n",
       "      <th>3195</th>\n",
       "      <td>2017-11-07</td>\n",
       "      <td>59.30</td>\n",
       "      <td>59.30</td>\n",
       "      <td>58.430</td>\n",
       "      <td>58.73</td>\n",
       "      <td>5240</td>\n",
       "      <td>0</td>\n",
       "    </tr>\n",
       "    <tr>\n",
       "      <th>3196</th>\n",
       "      <td>2017-11-08</td>\n",
       "      <td>59.19</td>\n",
       "      <td>59.42</td>\n",
       "      <td>58.245</td>\n",
       "      <td>58.75</td>\n",
       "      <td>3537</td>\n",
       "      <td>0</td>\n",
       "    </tr>\n",
       "    <tr>\n",
       "      <th>3197</th>\n",
       "      <td>2017-11-09</td>\n",
       "      <td>58.48</td>\n",
       "      <td>59.19</td>\n",
       "      <td>58.480</td>\n",
       "      <td>58.76</td>\n",
       "      <td>8519</td>\n",
       "      <td>0</td>\n",
       "    </tr>\n",
       "    <tr>\n",
       "      <th>3198</th>\n",
       "      <td>2017-11-10</td>\n",
       "      <td>59.03</td>\n",
       "      <td>59.03</td>\n",
       "      <td>58.130</td>\n",
       "      <td>58.37</td>\n",
       "      <td>12314</td>\n",
       "      <td>0</td>\n",
       "    </tr>\n",
       "  </tbody>\n",
       "</table>\n",
       "</div>"
      ],
      "text/plain": [
       "            Date   Open   High     Low  Close  Volume  OpenInt\n",
       "3194  2017-11-06  59.00  59.38  58.195  59.15   19854        0\n",
       "3195  2017-11-07  59.30  59.30  58.430  58.73    5240        0\n",
       "3196  2017-11-08  59.19  59.42  58.245  58.75    3537        0\n",
       "3197  2017-11-09  58.48  59.19  58.480  58.76    8519        0\n",
       "3198  2017-11-10  59.03  59.03  58.130  58.37   12314        0"
      ]
     },
     "execution_count": 14,
     "metadata": {},
     "output_type": "execute_result"
    }
   ],
   "source": [
    "df.tail()"
   ]
  },
  {
   "cell_type": "code",
   "execution_count": 38,
   "id": "5e1aeb9a",
   "metadata": {},
   "outputs": [],
   "source": [
    "weekdays = pd.bdate_range(start='2017-11-04', end='2017-11-08').astype(str)"
   ]
  },
  {
   "cell_type": "code",
   "execution_count": 39,
   "id": "88d2a817",
   "metadata": {},
   "outputs": [
    {
     "data": {
      "text/plain": [
       "Index(['2017-11-06', '2017-11-07', '2017-11-08'], dtype='object')"
      ]
     },
     "execution_count": 39,
     "metadata": {},
     "output_type": "execute_result"
    }
   ],
   "source": [
    "weekdays"
   ]
  },
  {
   "cell_type": "code",
   "execution_count": 20,
   "id": "3f38fc2e",
   "metadata": {},
   "outputs": [],
   "source": [
    "df['Date'] = df['Date'].astype(str)"
   ]
  },
  {
   "cell_type": "code",
   "execution_count": 21,
   "id": "24a7a09f",
   "metadata": {},
   "outputs": [],
   "source": [
    "time_df = pd.DataFrame({'Date': weekdays})"
   ]
  },
  {
   "cell_type": "code",
   "execution_count": 22,
   "id": "8f741bf2",
   "metadata": {},
   "outputs": [
    {
     "data": {
      "text/plain": [
       "(3199, 7)"
      ]
     },
     "execution_count": 22,
     "metadata": {},
     "output_type": "execute_result"
    }
   ],
   "source": [
    "df.shape"
   ]
  },
  {
   "cell_type": "code",
   "execution_count": 23,
   "id": "bd62f934",
   "metadata": {},
   "outputs": [],
   "source": [
    "df_merge = pd.merge(time_df, df, on=['Date'], how='left')"
   ]
  },
  {
   "cell_type": "code",
   "execution_count": 25,
   "id": "da13c5cb",
   "metadata": {},
   "outputs": [
    {
     "data": {
      "text/plain": [
       "(3312, 7)"
      ]
     },
     "execution_count": 25,
     "metadata": {},
     "output_type": "execute_result"
    }
   ],
   "source": [
    "df_merge.shape"
   ]
  },
  {
   "cell_type": "code",
   "execution_count": 33,
   "id": "f24f4cab",
   "metadata": {},
   "outputs": [],
   "source": [
    "df_test= pd.DataFrame({'a': [1, 3, 5, 7, 9], 'b': [1, 2, 3, 4, 5], 'c': [3,4,5,6,7]})"
   ]
  },
  {
   "cell_type": "code",
   "execution_count": 34,
   "id": "fb052bec",
   "metadata": {},
   "outputs": [],
   "source": [
    "df_test = pd.merge(pd.DataFrame(dict(a=[1,2,3,4,5,6,7,8,9])), df_test, on=['a'], how='left')"
   ]
  },
  {
   "cell_type": "code",
   "execution_count": 35,
   "id": "444ad52e",
   "metadata": {},
   "outputs": [
    {
     "data": {
      "text/html": [
       "<div>\n",
       "<style scoped>\n",
       "    .dataframe tbody tr th:only-of-type {\n",
       "        vertical-align: middle;\n",
       "    }\n",
       "\n",
       "    .dataframe tbody tr th {\n",
       "        vertical-align: top;\n",
       "    }\n",
       "\n",
       "    .dataframe thead th {\n",
       "        text-align: right;\n",
       "    }\n",
       "</style>\n",
       "<table border=\"1\" class=\"dataframe\">\n",
       "  <thead>\n",
       "    <tr style=\"text-align: right;\">\n",
       "      <th></th>\n",
       "      <th>a</th>\n",
       "      <th>b</th>\n",
       "      <th>c</th>\n",
       "    </tr>\n",
       "  </thead>\n",
       "  <tbody>\n",
       "    <tr>\n",
       "      <th>0</th>\n",
       "      <td>1</td>\n",
       "      <td>1.0</td>\n",
       "      <td>3.0</td>\n",
       "    </tr>\n",
       "    <tr>\n",
       "      <th>1</th>\n",
       "      <td>2</td>\n",
       "      <td>NaN</td>\n",
       "      <td>NaN</td>\n",
       "    </tr>\n",
       "    <tr>\n",
       "      <th>2</th>\n",
       "      <td>3</td>\n",
       "      <td>2.0</td>\n",
       "      <td>4.0</td>\n",
       "    </tr>\n",
       "    <tr>\n",
       "      <th>3</th>\n",
       "      <td>4</td>\n",
       "      <td>NaN</td>\n",
       "      <td>NaN</td>\n",
       "    </tr>\n",
       "    <tr>\n",
       "      <th>4</th>\n",
       "      <td>5</td>\n",
       "      <td>3.0</td>\n",
       "      <td>5.0</td>\n",
       "    </tr>\n",
       "    <tr>\n",
       "      <th>5</th>\n",
       "      <td>6</td>\n",
       "      <td>NaN</td>\n",
       "      <td>NaN</td>\n",
       "    </tr>\n",
       "    <tr>\n",
       "      <th>6</th>\n",
       "      <td>7</td>\n",
       "      <td>4.0</td>\n",
       "      <td>6.0</td>\n",
       "    </tr>\n",
       "    <tr>\n",
       "      <th>7</th>\n",
       "      <td>8</td>\n",
       "      <td>NaN</td>\n",
       "      <td>NaN</td>\n",
       "    </tr>\n",
       "    <tr>\n",
       "      <th>8</th>\n",
       "      <td>9</td>\n",
       "      <td>5.0</td>\n",
       "      <td>7.0</td>\n",
       "    </tr>\n",
       "  </tbody>\n",
       "</table>\n",
       "</div>"
      ],
      "text/plain": [
       "   a    b    c\n",
       "0  1  1.0  3.0\n",
       "1  2  NaN  NaN\n",
       "2  3  2.0  4.0\n",
       "3  4  NaN  NaN\n",
       "4  5  3.0  5.0\n",
       "5  6  NaN  NaN\n",
       "6  7  4.0  6.0\n",
       "7  8  NaN  NaN\n",
       "8  9  5.0  7.0"
      ]
     },
     "execution_count": 35,
     "metadata": {},
     "output_type": "execute_result"
    }
   ],
   "source": [
    "df_test"
   ]
  },
  {
   "cell_type": "code",
   "execution_count": 36,
   "id": "2a761863",
   "metadata": {},
   "outputs": [
    {
     "data": {
      "text/html": [
       "<div>\n",
       "<style scoped>\n",
       "    .dataframe tbody tr th:only-of-type {\n",
       "        vertical-align: middle;\n",
       "    }\n",
       "\n",
       "    .dataframe tbody tr th {\n",
       "        vertical-align: top;\n",
       "    }\n",
       "\n",
       "    .dataframe thead th {\n",
       "        text-align: right;\n",
       "    }\n",
       "</style>\n",
       "<table border=\"1\" class=\"dataframe\">\n",
       "  <thead>\n",
       "    <tr style=\"text-align: right;\">\n",
       "      <th></th>\n",
       "      <th>a</th>\n",
       "      <th>b</th>\n",
       "      <th>c</th>\n",
       "    </tr>\n",
       "  </thead>\n",
       "  <tbody>\n",
       "    <tr>\n",
       "      <th>0</th>\n",
       "      <td>1</td>\n",
       "      <td>1.0</td>\n",
       "      <td>3.0</td>\n",
       "    </tr>\n",
       "    <tr>\n",
       "      <th>1</th>\n",
       "      <td>2</td>\n",
       "      <td>1.0</td>\n",
       "      <td>3.0</td>\n",
       "    </tr>\n",
       "    <tr>\n",
       "      <th>2</th>\n",
       "      <td>3</td>\n",
       "      <td>2.0</td>\n",
       "      <td>4.0</td>\n",
       "    </tr>\n",
       "    <tr>\n",
       "      <th>3</th>\n",
       "      <td>4</td>\n",
       "      <td>2.0</td>\n",
       "      <td>4.0</td>\n",
       "    </tr>\n",
       "    <tr>\n",
       "      <th>4</th>\n",
       "      <td>5</td>\n",
       "      <td>3.0</td>\n",
       "      <td>5.0</td>\n",
       "    </tr>\n",
       "    <tr>\n",
       "      <th>5</th>\n",
       "      <td>6</td>\n",
       "      <td>3.0</td>\n",
       "      <td>5.0</td>\n",
       "    </tr>\n",
       "    <tr>\n",
       "      <th>6</th>\n",
       "      <td>7</td>\n",
       "      <td>4.0</td>\n",
       "      <td>6.0</td>\n",
       "    </tr>\n",
       "    <tr>\n",
       "      <th>7</th>\n",
       "      <td>8</td>\n",
       "      <td>4.0</td>\n",
       "      <td>6.0</td>\n",
       "    </tr>\n",
       "    <tr>\n",
       "      <th>8</th>\n",
       "      <td>9</td>\n",
       "      <td>5.0</td>\n",
       "      <td>7.0</td>\n",
       "    </tr>\n",
       "  </tbody>\n",
       "</table>\n",
       "</div>"
      ],
      "text/plain": [
       "   a    b    c\n",
       "0  1  1.0  3.0\n",
       "1  2  1.0  3.0\n",
       "2  3  2.0  4.0\n",
       "3  4  2.0  4.0\n",
       "4  5  3.0  5.0\n",
       "5  6  3.0  5.0\n",
       "6  7  4.0  6.0\n",
       "7  8  4.0  6.0\n",
       "8  9  5.0  7.0"
      ]
     },
     "execution_count": 36,
     "metadata": {},
     "output_type": "execute_result"
    }
   ],
   "source": [
    "df_test.ffill()"
   ]
  },
  {
   "cell_type": "code",
   "execution_count": null,
   "id": "8b53f902",
   "metadata": {},
   "outputs": [],
   "source": []
  }
 ],
 "metadata": {
  "kernelspec": {
   "display_name": "Python 3",
   "language": "python",
   "name": "python3"
  },
  "language_info": {
   "codemirror_mode": {
    "name": "ipython",
    "version": 3
   },
   "file_extension": ".py",
   "mimetype": "text/x-python",
   "name": "python",
   "nbconvert_exporter": "python",
   "pygments_lexer": "ipython3",
   "version": "3.8.2"
  }
 },
 "nbformat": 4,
 "nbformat_minor": 5
}
